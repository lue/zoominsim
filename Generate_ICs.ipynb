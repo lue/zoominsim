{
 "cells": [
  {
   "cell_type": "code",
   "execution_count": 1,
   "metadata": {
    "collapsed": true
   },
   "outputs": [],
   "source": [
    "import os\n",
    "import glob\n",
    "import numpy as np\n",
    "%matplotlib notebook\n",
    "import matplotlib.pyplot as plt\n",
    "\n",
    "gic_path = '/home/kaurov/data/work/gic/'"
   ]
  },
  {
   "cell_type": "code",
   "execution_count": 2,
   "metadata": {
    "collapsed": true
   },
   "outputs": [],
   "source": [
    "cat = np.genfromtxt('data/80B/a=0.0905/halo_catalog_a0.0905.dat')"
   ]
  },
  {
   "cell_type": "code",
   "execution_count": 3,
   "metadata": {
    "collapsed": false
   },
   "outputs": [],
   "source": [
    "\n",
    "\n",
    "iii = np.where(cat[:,8] == np.sort(cat[:,8])[-1])[0][0]\n",
    "\n",
    "#plt.figure(6)\n",
    "#plt.hist(np.log10(cat[:,8]))\n"
   ]
  },
  {
   "cell_type": "code",
   "execution_count": 4,
   "metadata": {
    "collapsed": false
   },
   "outputs": [
    {
     "name": "stdout",
     "output_type": "stream",
     "text": [
      "0001166094_010_080B\n",
      "24.45529 79.87081 56.0932\n"
     ]
    }
   ],
   "source": [
    "LargeBox = 80\n",
    "SmallBox = 10\n",
    "LLetter = 'B'\n",
    "if LLetter=='B':\n",
    "    Letter = -2 # B\n",
    "\n",
    "iid = cat[iii,0]\n",
    "\n",
    "CentX = cat[iii,1]\n",
    "CentY = cat[iii,2]\n",
    "CentZ = cat[iii,3]\n",
    "\n",
    "Out_dir = '%010i_%03i_%03i%s'%(iid,SmallBox,LargeBox,LLetter)\n",
    "print(Out_dir)\n",
    "print(CentX, CentY, CentZ)"
   ]
  },
  {
   "cell_type": "code",
   "execution_count": 5,
   "metadata": {
    "collapsed": false
   },
   "outputs": [],
   "source": [
    "setupinc = '''\n",
    "        parameter (NumLowTop = ''' + str(int(LargeBox / 80 * 512)) + ''')\n",
    "        parameter (NumLow = ''' + str(int(SmallBox / 80 * 512)) + ''')\n",
    "        parameter (NumRef = 2)\n",
    "C\n",
    "C  Use these if you need a non-cubic grid\n",
    "C\n",
    "        parameter (NumLowX = NumLow)\n",
    "        parameter (NumLowY = NumLow)\n",
    "        parameter (NumLowZ = NumLow)\n",
    "        parameter (NumLowTopX = NumLowTop)\n",
    "        parameter (NumLowTopY = NumLowTop)\n",
    "        parameter (NumLowTopZ = NumLowTop)\n",
    "\n",
    "        parameter (DxShift = ''' + str(int((CentX - 0.5*SmallBox) / 80 * 512)) + ''')\n",
    "        parameter (DyShift = ''' + str(int((CentY - 0.5*SmallBox) / 80 * 512)) + ''')\n",
    "        parameter (DzShift = ''' + str(int((CentZ - 0.5*SmallBox) / 80 * 512)) + ''')\n",
    "'''"
   ]
  },
  {
   "cell_type": "code",
   "execution_count": 6,
   "metadata": {
    "collapsed": true
   },
   "outputs": [],
   "source": [
    "setupf = '''\n",
    "      subroutine InitParameters\n",
    "      include 'src/cosmo.inc'\n",
    "      include 'src/power.inc'\n",
    "      include 'src/config.inc'\n",
    "\n",
    "      dir = '''+\"'\"+Out_dir+\"'\"+'''\n",
    "      jobname = 'rei'''+Out_dir+''''\n",
    "\n",
    "      OmX = 0.2557\n",
    "      OmB = 0.0479\n",
    "      OmL = 0.6964\n",
    "      OmN = 0\n",
    "      h100 = 0.6814\n",
    "\n",
    "      cell = 20.0/128\n",
    "      enn = 0.9675\n",
    "      sigma8 = 0.8285\n",
    "\n",
    "      iseed = '''+str(Letter)+'''\n",
    "\n",
    "      TFname = 'TF/lingerics_lcdmP.lic'\n",
    "\n",
    "      info = 1\n",
    "\n",
    "      return\n",
    "      end\n",
    "      '''"
   ]
  },
  {
   "cell_type": "code",
   "execution_count": 7,
   "metadata": {
    "collapsed": true
   },
   "outputs": [],
   "source": [
    "with open(gic_path+\"setup.inc\", \"w\") as text_file:\n",
    "    text_file.write(setupinc)\n",
    "\n",
    "with open(gic_path+\"setup.f\", \"w\") as text_file:\n",
    "    text_file.write(setupf)\n",
    "\n"
   ]
  },
  {
   "cell_type": "code",
   "execution_count": 13,
   "metadata": {
    "collapsed": false
   },
   "outputs": [
    {
     "data": {
      "text/plain": [
       "0"
      ]
     },
     "execution_count": 13,
     "metadata": {},
     "output_type": "execute_result"
    }
   ],
   "source": [
    "os.system(\"cd %s && mkdir %s\"%(gic_path, Out_dir))\n",
    "os.system(\"cd %s && source ~/.set_gcc && make\"%(gic_path))\n",
    "os.system(\"cd %s && source ~/.set_gcc && make utils\"%(gic_path))\n",
    "os.system(\"cd %s && ./bin/gic-low -d -m -b -save\"%(gic_path))\n",
    "os.system(\"cd %s && ./bin/gic2ifrit rei%s_lr_M.den -den\"%(gic_path,Out_dir))\n"
   ]
  },
  {
   "cell_type": "code",
   "execution_count": 14,
   "metadata": {
    "collapsed": false
   },
   "outputs": [
    {
     "data": {
      "text/plain": [
       "0"
      ]
     },
     "execution_count": 14,
     "metadata": {},
     "output_type": "execute_result"
    }
   ],
   "source": [
    "os.system(\"cd %s && ./bin/gic-high -d -m -b -multi -uni=2\"%(gic_path))"
   ]
  },
  {
   "cell_type": "code",
   "execution_count": 15,
   "metadata": {
    "collapsed": false
   },
   "outputs": [
    {
     "data": {
      "text/plain": [
       "0"
      ]
     },
     "execution_count": 15,
     "metadata": {},
     "output_type": "execute_result"
    }
   ],
   "source": [
    "os.system(\"cd %s && ./bin/gic2ifrit rei%s_mr2_M.den -den\"%(gic_path,Out_dir))"
   ]
  },
  {
   "cell_type": "code",
   "execution_count": null,
   "metadata": {
    "collapsed": true
   },
   "outputs": [],
   "source": []
  }
 ],
 "metadata": {
  "anaconda-cloud": {},
  "kernelspec": {
   "display_name": "Python [Root]",
   "language": "python",
   "name": "Python [Root]"
  },
  "language_info": {
   "codemirror_mode": {
    "name": "ipython",
    "version": 3
   },
   "file_extension": ".py",
   "mimetype": "text/x-python",
   "name": "python",
   "nbconvert_exporter": "python",
   "pygments_lexer": "ipython3",
   "version": "3.5.2"
  }
 },
 "nbformat": 4,
 "nbformat_minor": 0
}
